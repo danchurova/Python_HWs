{
 "cells": [
  {
   "cell_type": "markdown",
   "metadata": {},
   "source": [
    "### Homework 2. Classes."
   ]
  },
  {
   "cell_type": "code",
   "execution_count": 82,
   "metadata": {
    "collapsed": true
   },
   "outputs": [],
   "source": [
    "### Class Kmer\n",
    "class Kmer:\n",
    "\n",
    "    def __init__(self,kmer_name):\n",
    "        self.sequence = kmer_name\n",
    "        self.loci = [] # list of found loci coordinates\n",
    "        self.counter = 1 # the number of appearance of kmer in string\n",
    "\n",
    "    def increase(self):\n",
    "        self.counter += 1\n",
    "        \n",
    "    def increase_n(self, n):\n",
    "        self.counter += n\n",
    "        \n",
    "    def add_locus(self, chrom, position):\n",
    "        self.loci.append((chrom, position))\n",
    "        \n",
    "    def show_loci(self):\n",
    "        for chrom, position in self.loci:\n",
    "            print(\"{}\\t{}\".format(chrom, position))\n",
    "            \n",
    "    \n",
    "    \n",
    "    \n",
    "    \n",
    "    \n"
   ]
  },
  {
   "cell_type": "code",
   "execution_count": 86,
   "metadata": {
    "collapsed": false
   },
   "outputs": [],
   "source": [
    "seq = open(\"./seq_y_pestis.fasta\", \"r\")\n",
    "seq = seq.readlines() # read line by line\n",
    "seq_name = seq[0].strip() # first line will be a name (at least in our case)\n",
    "seq2 = \"\".join(seq[1:1000]).replace('\\n', '')\n",
    "seq_lng = len(seq2)\n",
    "kmer_size = 23 # set kmer size\n",
    "kmer_dict = {}\n",
    "for index in range(seq_lng-kmer_size+1):\n",
    "    current_kmer = seq2[index:(index+kmer_size)]\n",
    "    if current_kmer in kmer_dict:\n",
    "        kmer_dict[current_kmer].increase() #increase counter\n",
    "    else:\n",
    "        kmer_dict[current_kmer] = Kmer(current_kmer)\n",
    "    kmer_dict[current_kmer].add_locus(seq_name, index) # add index and file name\n",
    "        \n"
   ]
  },
  {
   "cell_type": "code",
   "execution_count": 90,
   "metadata": {
    "collapsed": false
   },
   "outputs": [
    {
     "data": {
      "text/plain": [
       "[('>AE009952.1 Yersinia pestis KIM10+, complete genome', 17103),\n",
       " ('>AE009952.1 Yersinia pestis KIM10+, complete genome', 17350)]"
      ]
     },
     "execution_count": 90,
     "metadata": {},
     "output_type": "execute_result"
    }
   ],
   "source": [
    "max(kmer_dict.values(), key=lambda x: x.counter).loci  "
   ]
  },
  {
   "cell_type": "code",
   "execution_count": 89,
   "metadata": {
    "collapsed": false
   },
   "outputs": [
    {
     "name": "stdout",
     "output_type": "stream",
     "text": [
      ">AE009952.1 Yersinia pestis KIM10+, complete genome\t17103\n",
      ">AE009952.1 Yersinia pestis KIM10+, complete genome\t17350\n"
     ]
    }
   ],
   "source": [
    "max(kmer_dict.values(), key=lambda x: x.counter).show_loci()"
   ]
  },
  {
   "cell_type": "code",
   "execution_count": null,
   "metadata": {
    "collapsed": true
   },
   "outputs": [],
   "source": []
  }
 ],
 "metadata": {
  "anaconda-cloud": {},
  "kernelspec": {
   "display_name": "Python [conda root]",
   "language": "python",
   "name": "conda-root-py"
  },
  "language_info": {
   "codemirror_mode": {
    "name": "ipython",
    "version": 3
   },
   "file_extension": ".py",
   "mimetype": "text/x-python",
   "name": "python",
   "nbconvert_exporter": "python",
   "pygments_lexer": "ipython3",
   "version": "3.5.4"
  }
 },
 "nbformat": 4,
 "nbformat_minor": 1
}
