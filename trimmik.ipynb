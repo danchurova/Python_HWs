{
 "cells": [
  {
   "cell_type": "code",
   "execution_count": 1,
   "metadata": {
    "collapsed": true
   },
   "outputs": [],
   "source": [
    "# trimmik"
   ]
  },
  {
   "cell_type": "code",
   "execution_count": 2,
   "metadata": {
    "collapsed": true
   },
   "outputs": [],
   "source": [
    "import argparse\n",
    "import numpy as np\n",
    "from Bio import SeqIO\n",
    "\n"
   ]
  },
  {
   "cell_type": "code",
   "execution_count": 3,
   "metadata": {
    "collapsed": false
   },
   "outputs": [],
   "source": [
    "parser = argparse.ArgumentParser(description='Name of programe')\n",
    "parser.add_argument('-hc', '--headcrop', help='Number of cropped head sequence', metavar='Int', type=int, required=False)\n",
    "parser.add_argument('-tc', '--tailcrop', help='Nimber of cropped tail sequence', metavar='Int', type=int, required=False)\n",
    "parser.add_argument('-w', '--window', help='The size of the window that will be used for quality evaluation', metavar='Int', type=int)\n",
    "parser.add_argument('-thr', '--threshold', help='The sthreshold for quality evaluation', metavar='Int', type=int)\n",
    "args = parser.parse_args(args=\"-hc 5 -tc 10 -w 10 -thr 20\".split(\" \"))\n",
    "\n"
   ]
  },
  {
   "cell_type": "code",
   "execution_count": 38,
   "metadata": {
    "collapsed": false
   },
   "outputs": [
    {
     "data": {
      "text/plain": [
       "28160"
      ]
     },
     "execution_count": 38,
     "metadata": {},
     "output_type": "execute_result"
    }
   ],
   "source": [
    "def trim(args, rec):\n",
    "    phred_qual = list(rec.letter_annotations[\"phred_quality\"])\n",
    "    rec.letter_annotations = {}\n",
    "    \n",
    "    if args.headcrop:\n",
    "        rec.seq = rec.seq[args.headcrop:]\n",
    "        phred_qual = phred_qual[args.headcrop:]\n",
    "        \n",
    "    if args.tailcrop:\n",
    "        rec.seq = rec.seq[:args.tailcrop]\n",
    "        phred_qual = phred_qual[:args.tailcrop]\n",
    "           \n",
    "    if args.window and args.threshold:\n",
    "        start = 0 \n",
    "        seq = rec.seq.tomutable()\n",
    "        while start <= len(seq)-args.window:\n",
    "            if np.mean(phred_qual[start:start+args.window]) < args.threshold:\n",
    "                for i in range(start, start+args.window):\n",
    "                    del seq[start]\n",
    "                phred_qual[start:start+args.window] = []\n",
    "            else:\n",
    "                start += 1\n",
    "        rec.seq = seq   \n",
    "    rec.letter_annotations[\"phred_quality\"] = phred_qual\n",
    "    return rec\n",
    "\n",
    "reads = SeqIO.parse(\"./test_classwork2.fastq\", \"fastq\")\n",
    "result = [trim(args,rec) for rec in reads]\n",
    "SeqIO.write(result, \"trimmed.fastq\", \"fastq\") \n",
    "        "
   ]
  },
  {
   "cell_type": "code",
   "execution_count": 40,
   "metadata": {
    "collapsed": false
   },
   "outputs": [],
   "source": [
    "\n",
    "            \n",
    "\n"
   ]
  },
  {
   "cell_type": "code",
   "execution_count": null,
   "metadata": {
    "collapsed": true
   },
   "outputs": [],
   "source": []
  }
 ],
 "metadata": {
  "anaconda-cloud": {},
  "kernelspec": {
   "display_name": "Python [default]",
   "language": "python",
   "name": "python3"
  },
  "language_info": {
   "codemirror_mode": {
    "name": "ipython",
    "version": 3
   },
   "file_extension": ".py",
   "mimetype": "text/x-python",
   "name": "python",
   "nbconvert_exporter": "python",
   "pygments_lexer": "ipython3",
   "version": "3.5.4"
  }
 },
 "nbformat": 4,
 "nbformat_minor": 1
}
